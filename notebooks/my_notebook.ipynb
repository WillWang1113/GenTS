{
 "cells": [
  {
   "cell_type": "code",
   "execution_count": null,
   "metadata": {},
   "outputs": [],
   "source": [
    "import numpy as np\n",
    "import matplotlib.pyplot as plt\n",
    "import torch\n",
    "import einops\n",
    "from src.layers.flow import get_mask, MaskedLinear"
   ]
  },
  {
   "cell_type": "code",
   "execution_count": null,
   "metadata": {},
   "outputs": [],
   "source": [
    "x = torch.randn(32,10,2)\n",
    "x_hat = torch.randn(32,10,2)\n",
    "\n",
    "mse_loss = torch.nn.functional.mse_loss(x_hat, x) * 10 * 2\n",
    "sum_loss = torch.nn.functional.mse_loss(x_hat, x, reduction='sum') / 32\n",
    "print(mse_loss)\n",
    "print(sum_loss)"
   ]
  },
  {
   "cell_type": "code",
   "execution_count": null,
   "metadata": {},
   "outputs": [],
   "source": [
    "x.sum()/32"
   ]
  },
  {
   "cell_type": "code",
   "execution_count": null,
   "metadata": {},
   "outputs": [],
   "source": [
    "x.sum(dim=tuple(range(1, x.ndim))).mean()"
   ]
  },
  {
   "cell_type": "code",
   "execution_count": null,
   "metadata": {},
   "outputs": [],
   "source": [
    "import numpy as np\n",
    "import matplotlib.pyplot as plt\n",
    "res = np.load('/home/user/data2/ICML_rebuttal/savings/uncond/etth2_24_S/KoVAEorig/cond_None_dtm_True_syn.npy')\n",
    "# res = np.load('/home/user/data/ICML_rebuttal/savings/uncond/etth2_24_S/KoVAE_orig/cond_None_dtm_True_syn.npy')\n",
    "start = np.random.randint(0, len(res))\n",
    "_ = plt.plot(res[start, :, :].squeeze().T)"
   ]
  },
  {
   "cell_type": "code",
   "execution_count": null,
   "metadata": {},
   "outputs": [],
   "source": [
    "import numpy as np\n",
    "import matplotlib.pyplot as plt\n",
    "import pandas as pd\n",
    "\n",
    "df = pd.read_csv('/home/user/workspaces/THU-timeseries/ETT-small/ETTh2.csv', index_col=0)\n",
    "# df.values.shape\n",
    "start = np.random.randint(0, len(df)-24)\n",
    "_ = plt.plot(df.values[start:start+24, :])"
   ]
  },
  {
   "cell_type": "code",
   "execution_count": null,
   "metadata": {},
   "outputs": [],
   "source": [
    "from abc import ABC, abstractmethod\n",
    "from typing import List, Optional, Literal\n",
    "from lightning import LightningModule\n",
    "import torch\n",
    "from torch.nn import functional as F\n",
    "\n",
    "def _condition_shape_check(n_sample, condition, cond_type):\n",
    "    assert n_sample >=1\n",
    "    if cond_type is None:\n",
    "    \n",
    "        if condition.shape[0] == 1:\n",
    "            condition = condition.repeat(\n",
    "                n_sample, *[1 for _ in range(len(condition.shape) - 1)]\n",
    "            )\n",
    "        elif condition.shape[0] == n_sample:\n",
    "            pass\n",
    "        else:\n",
    "            raise ValueError(\n",
    "                \"The batch size of the given condition should be the same as n_sample or just 1.\"\n",
    "            )\n",
    " \n",
    "    return condition\n",
    "\n",
    "\n",
    "class BaseModel(ABC, LightningModule):\n",
    "    \"\"\"Base class for generative models in PyTorch Lightning\"\"\"\n",
    "    ALLOW_CONDITION = ...\n",
    "    \n",
    "    def __init__(self, seq_len, seq_dim, condition, lr, **kwargs):\n",
    "        super().__init__()\n",
    "        if condition not in self.ALLOW_CONDITION:\n",
    "            raise ValueError(f\"Condition '{condition}' not allowed. Choose from {self.ALLOW_CONDITION}\")\n",
    "    \n",
    "    @torch.no_grad()  # wrap with torch.no_grad()\n",
    "    def sample(self, n_sample: int = 1, condition=None, **kwargs):\n",
    "        \"\"\"Generate samples from the generative model\"\"\"\n",
    "        condition = _condition_shape_check(n_sample, condition, self.condition)\n",
    "        self.eval()\n",
    "        return self._sample_impl(n_sample, condition, **kwargs)\n",
    "\n",
    "    @abstractmethod\n",
    "    def _sample_impl(self, n_sample: int = 1, condition=None, **kwargs) -> torch.Tensor:\n",
    "        \"\"\"Actual implementation of the sampling process\"\"\"\n",
    "\n",
    "\n",
    "class MyModel(BaseModel):\n",
    "    \"\"\"AAAAAAA\n",
    "\n",
    "    Args:\n",
    "        BaseModel (_type_): _description_\n",
    "\n",
    "    Returns:\n",
    "        _type_: _description_\n",
    "    \"\"\"\n",
    "    ALLOW_CONDITION = [None, 'predict']\n",
    "    def __init__(self, seq_len, seq_dim, condition, lr, **kwargs):\n",
    "        \"\"\"aaaaaaa\n",
    "\n",
    "        Args:\n",
    "            seq_len (_type_): _description_\n",
    "            seq_dim (_type_): _description_\n",
    "            condition (_type_): _description_\n",
    "            lr (_type_): _description_\n",
    "        \"\"\"\n",
    "        super().__init__(seq_len, seq_dim, condition, lr, **kwargs)\n",
    "    \n",
    "    def _sample_impl(self, n_sample = 1, condition=None, **kwargs):\n",
    "        return super()._sample_impl(n_sample, condition, **kwargs)\n",
    "\n",
    "MyModel\n",
    "model = MyModel(24, 1, 'impute', 0.001)"
   ]
  },
  {
   "cell_type": "code",
   "execution_count": null,
   "metadata": {},
   "outputs": [],
   "source": [
    "import torch\n",
    "\n",
    "total_seq_len = 64\n",
    "num_samples = 200\n",
    "t = torch.linspace(0, 4 * torch.pi, total_seq_len).float()\n",
    "curves = []\n",
    "labels = []\n",
    "for _ in range(num_samples):\n",
    "    a = torch.rand(1).item() * 0.5  # Initial radius\n",
    "    b = torch.rand(1).item() * 0.2  # Growth rate\n",
    "\n",
    "    direction = torch.randint(0, 2, (1,)).item()  # 0=clockwise, 1=ccw\n",
    "\n",
    "    r = a + b * t\n",
    "    if direction == 0:\n",
    "        x = r * torch.cos(t)\n",
    "        y = r * torch.sin(t)\n",
    "    else:\n",
    "        x = -r * torch.cos(t)\n",
    "        y = r * torch.sin(t)\n",
    "\n",
    "    x += torch.randn_like(x) * 0.01\n",
    "    y += torch.randn_like(y) * 0.01\n",
    "\n",
    "    curve = torch.stack([x, y], dim=1)\n",
    "    curves.append(curve)\n",
    "    labels.append(direction)\n",
    "data, class_cond = torch.stack(curves), torch.tensor(labels).unsqueeze(-1)\n",
    "print(data.shape, class_cond.shape)\n",
    "\n",
    "class_cond[1,...,...]"
   ]
  },
  {
   "cell_type": "code",
   "execution_count": 4,
   "metadata": {},
   "outputs": [
    {
     "name": "stdout",
     "output_type": "stream",
     "text": [
      "9\n"
     ]
    },
    {
     "data": {
      "text/plain": [
       "torch.Size([32, 5, 8, 8])"
      ]
     },
     "execution_count": 4,
     "metadata": {},
     "output_type": "execute_result"
    }
   ],
   "source": [
    "import torchaudio.transforms as T\n",
    "import torch\n",
    "\n",
    "n_fft = 200\n",
    "hop_length = 10\n",
    "data = torch.randn(32, 64, 5)\n",
    "hop_length = 8\n",
    "print((data.shape[1]) // hop_length + 1)\n",
    "data = torch.permute(\n",
    "    data, (0, 2, 1)\n",
    ")  # we permute to match requirements of torchaudio.transforms.Spectrogram\n",
    "spec = T.Spectrogram(n_fft=15, hop_length=hop_length, center=True, power=None).to(data.device)\n",
    "transformed_data = spec(data)\n",
    "transformed_data.shape"
   ]
  },
  {
   "cell_type": "code",
   "execution_count": 172,
   "metadata": {},
   "outputs": [],
   "source": [
    "import numpy as np\n",
    "\n",
    "def sine_data_generation(no, seq_len, dim, freq_scale=1):\n",
    "\n",
    "    \"\"\"Sine data generation.\n",
    "  \n",
    "    Args:\n",
    "    \n",
    "    - no: the number of samples\n",
    "    - seq_len: sequence length of the time-series\n",
    "    - dim: feature dimensions\n",
    "    \n",
    "    Returns:\n",
    "    - data: generated data\n",
    "    \n",
    "    \"\"\"\n",
    "    # Initialize the output\n",
    "    data = list()\n",
    "\n",
    "    # Generate sine data\n",
    "    for i in range(no):      \n",
    "        # Initialize each time-series\n",
    "        temp = list()\n",
    "        # For each feature\n",
    "        for k in range(dim):\n",
    "            # Randomly drawn frequency and phase\n",
    "            freq = np.random.uniform(0.05, 0.4)            \n",
    "            phase = np.random.uniform(0, 1.5)\n",
    "                \n",
    "            # Generate sine signal based on the drawn frequency and phase\n",
    "            temp_data = [np.sin(freq * j + phase) for j in range(seq_len)] \n",
    "            temp.append(temp_data)\n",
    "            \n",
    "        # Align row/column\n",
    "        temp = np.transpose(np.asarray(temp))        \n",
    "        # Normalize to [0,1]\n",
    "        temp = (temp + 1)*0.5\n",
    "        # Stack the generated data\n",
    "        data.append(temp)\n",
    "                    \n",
    "    return data"
   ]
  },
  {
   "cell_type": "code",
   "execution_count": 18,
   "metadata": {},
   "outputs": [
    {
     "name": "stdout",
     "output_type": "stream",
     "text": [
      "FF implement\n",
      "torch.Size([1, 33])\n",
      "tensor([[-0.0224-2.7048e-03j,  0.0062-9.1164e-03j, -0.0019+1.5549e-02j,\n",
      "          0.0030+1.0849e-03j, -0.0001-4.0076e-03j, -0.0045-5.5286e-03j,\n",
      "          0.0028+5.9277e-03j,  0.0050-7.4491e-05j,  0.0083-1.6239e-02j,\n",
      "         -0.0066+8.7482e-03j,  0.0036+5.4848e-03j,  0.0008-1.8592e-03j,\n",
      "          0.0083+1.3301e-03j,  0.0058-3.1463e-03j, -0.0087-1.2385e-02j,\n",
      "         -0.0048-2.4872e-03j, -0.0013-8.0844e-04j, -0.0040-1.5267e-02j,\n",
      "         -0.0082+1.9869e-03j, -0.0046-7.0200e-03j,  0.0139-3.2835e-03j,\n",
      "          0.0007+1.4498e-02j,  0.0053-4.7779e-03j, -0.0033-1.0216e-02j,\n",
      "          0.0023+4.6939e-03j,  0.0018+1.6374e-02j, -0.0067+1.1505e-02j,\n",
      "          0.0127+4.6092e-03j, -0.0029+1.9534e-02j, -0.0081+1.0713e-04j,\n",
      "         -0.0078+3.4772e-02j, -0.0490+4.9984e-01j, -0.0002+0.0000e+00j]])\n",
      "torch.fft.rfft implement\n",
      "torch.Size([1, 33])\n",
      "torch.Size([1, 33])\n",
      "tensor([[-0.0224-2.7048e-03j,  0.0062-9.1164e-03j, -0.0019+1.5549e-02j,\n",
      "          0.0030+1.0849e-03j, -0.0001-4.0076e-03j, -0.0045-5.5286e-03j,\n",
      "          0.0028+5.9277e-03j,  0.0050-7.4486e-05j,  0.0083-1.6239e-02j,\n",
      "         -0.0066+8.7482e-03j,  0.0036+5.4848e-03j,  0.0008-1.8592e-03j,\n",
      "          0.0083+1.3301e-03j,  0.0058-3.1463e-03j, -0.0087-1.2385e-02j,\n",
      "         -0.0048-2.4872e-03j, -0.0013-8.0844e-04j, -0.0040-1.5267e-02j,\n",
      "         -0.0082+1.9869e-03j, -0.0046-7.0200e-03j,  0.0139-3.2835e-03j,\n",
      "          0.0007+1.4498e-02j,  0.0053-4.7779e-03j, -0.0033-1.0216e-02j,\n",
      "          0.0023+4.6939e-03j,  0.0018+1.6374e-02j, -0.0067+1.1505e-02j,\n",
      "          0.0127+4.6092e-03j, -0.0029+1.9534e-02j, -0.0081+1.0713e-04j,\n",
      "         -0.0078+3.4772e-02j, -0.0490+4.9984e-01j, -0.0002-0.0000e+00j]])\n"
     ]
    }
   ],
   "source": [
    "from src.model.flow.fourierflow._fourier import DFT, reconstruct_DFT\n",
    "import numpy as np\n",
    "import torch\n",
    "\n",
    "t = np.linspace(0, 6, 65)\n",
    "k = int(len(t) / 2) + 1\n",
    "\n",
    "x = np.sin(t) + np.random.randn(*t.shape) * 0.1\n",
    "\n",
    "x = x.reshape(-1, len(t))\n",
    "x = torch.from_numpy(x)\n",
    "m = DFT(x.shape[1])\n",
    "z, log_pz, log_jacob = m(x)\n",
    "z = torch.complex(z[:, 0, :], z[:, 1, :])\n",
    "print(\"FF implement\")\n",
    "print(z.shape)\n",
    "print(z)\n",
    "\n",
    "print(\"torch.fft.rfft implement\")\n",
    "x_torch_fft = torch.fft.rfft(x) / len(t)\n",
    "print(x_torch_fft.shape)\n",
    "x_torch_fft = x_torch_fft.flip(dims=[1]).conj().type_as(z)\n",
    "print(x_torch_fft.shape)\n",
    "print(x_torch_fft)\n",
    "torch.testing.assert_close(x_torch_fft, z)\n",
    "\n",
    "# x_torch_fft = np.fft.fft(x)\n",
    "# x_torch_fft = np.fft.fftshift(x_torch_fft)\n",
    "# print(x_torch_fft.shape)\n",
    "# print(x_torch_fft)\n",
    "\n",
    "# x_torch = torch.complex(x_numpy[:,0,:], x_numpy[:,1,:])\n",
    "# print(x_torch.shape)\n",
    "# x_irfft = torch.fft.irfft(x_torch, dim=1)\n",
    "# x_irfft.shape\n",
    "\n",
    "# x_numpy_r = reconstruct_DFT(x_numpy[0, :, :], component=\"real\").detach().numpy()\n",
    "\n",
    "# x_numpy_i = reconstruct_DFT(x_numpy[0, :, :], component=\"imag\").detach().numpy()\n",
    "# print(x_numpy_r.shape)\n",
    "# print(x_numpy_i.shape)\n",
    "# np.real(np.fft.ifft(np.fft.ifftshift(x_numpy_r + 1j * x_numpy_i))).shape\n"
   ]
  },
  {
   "cell_type": "code",
   "execution_count": 3,
   "metadata": {},
   "outputs": [
    {
     "data": {
      "text/plain": [
       "\"bb\":   1\n",
       "\"name\": kk"
      ]
     },
     "execution_count": 3,
     "metadata": {},
     "output_type": "execute_result"
    }
   ],
   "source": [
    "from lightning import LightningModule\n",
    "\n",
    "\n",
    "\n",
    "class MyNet(LightningModule):\n",
    "    def __init__(self, name, **kwargs):\n",
    "        super().__init__()\n",
    "        self.save_hyperparameters()\n",
    "        \n",
    "        \n",
    "a = MyNet('kk', bb=1)\n",
    "a.hparams"
   ]
  }
 ],
 "metadata": {
  "kernelspec": {
   "display_name": "gents",
   "language": "python",
   "name": "python3"
  },
  "language_info": {
   "codemirror_mode": {
    "name": "ipython",
    "version": 3
   },
   "file_extension": ".py",
   "mimetype": "text/x-python",
   "name": "python",
   "nbconvert_exporter": "python",
   "pygments_lexer": "ipython3",
   "version": "3.10.15"
  }
 },
 "nbformat": 4,
 "nbformat_minor": 2
}
