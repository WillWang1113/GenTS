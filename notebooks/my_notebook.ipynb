{
 "cells": [
  {
   "cell_type": "code",
   "execution_count": null,
   "metadata": {},
   "outputs": [],
   "source": [
    "import numpy as np\n",
    "import matplotlib.pyplot as plt\n",
    "import torch\n",
    "from src.layers.flow import get_mask, MaskedLinear"
   ]
  },
  {
   "cell_type": "code",
   "execution_count": null,
   "metadata": {},
   "outputs": [],
   "source": [
    "num_samples = 100\n",
    "t = torch.linspace(0, 4 * torch.pi, 200).float()\n",
    "curves = []\n",
    "labels = []\n",
    "for _ in range(num_samples):\n",
    "\n",
    "    a = torch.rand(1).item() * 0.5  # Initial radius\n",
    "    b = torch.rand(1).item() * 0.2  # Growth rate\n",
    "\n",
    "    direction = torch.randint(0, 2, (1,)).item()  # 0=clockwise, 1=ccw\n",
    "\n",
    "    # theta = torch.linspace(0, 4 * torch.pi, self.seq_len)  # Two full rotations\n",
    "    r = a + b * t\n",
    "    if direction == 0:\n",
    "        x = r * torch.cos(t)\n",
    "        y = r * torch.sin(t)\n",
    "    else:\n",
    "        x = -r * torch.cos(t)\n",
    "        y = r * torch.sin(t)\n",
    "\n",
    "    x += torch.randn_like(x) * 0.01\n",
    "    y += torch.randn_like(y) * 0.01\n",
    "\n",
    "    curve = torch.stack([x, y], dim=1)\n",
    "    curves.append(curve)\n",
    "    labels.append(direction)\n",
    "data, class_cond = torch.stack(curves), torch.tensor(labels)\n",
    "print(data.shape)\n",
    "print(class_cond.shape)"
   ]
  },
  {
   "cell_type": "code",
   "execution_count": null,
   "metadata": {},
   "outputs": [],
   "source": [
    "x = torch.randn(1000, 200, 2)\n",
    "mask = torch.ones(1000, 200, 2)\n",
    "total_seq_len=mask.shape[1]\n",
    "delta = 50\n",
    "rand_start = torch.randint(0, total_seq_len-delta, (1000,))\n",
    "print(rand_start[:10])\n",
    "max_delta = 10\n",
    "# delta = (torch.rand(1000, device=x.device) * (max_delta + 1)).long()\n",
    "end = rand_start + delta\n",
    "print(end[:10])\n",
    "\n",
    "# 生成时间步索引并比较生成布尔掩码\n",
    "t = torch.arange(200, device=x.device).view(1, -1)  # 形状 [1, 200]\n",
    "mask_2d = (t >= rand_start.view(-1, 1)) & (t <= end.view(-1, 1))  # 形状 [1000, 200]\n",
    "mask_3d = mask_2d.unsqueeze(-1).expand_as(mask)\n",
    "(~mask_3d) * x\n",
    "plt.plot(x[0, :, 0])\n",
    "plt.plot(((~mask_3d) * x)[0, :, 0])"
   ]
  },
  {
   "cell_type": "code",
   "execution_count": 6,
   "metadata": {},
   "outputs": [
    {
     "name": "stdout",
     "output_type": "stream",
     "text": [
      "torch.Size([8, 37, 16])\n",
      "torch.Size([8, 37, 32])\n",
      "torch.Size([8, 37, 64])\n",
      "torch.Size([8, 3, 64])\n",
      "torch.Size([8, 1])\n"
     ]
    }
   ],
   "source": [
    "import torch\n",
    "import numpy as np\n",
    "import scipy\n",
    "import torch.nn.functional as F\n",
    "import matplotlib.pyplot as plt\n",
    "from src.model.gan.psagan import ProGenerator, ProDiscriminator\n",
    "\n",
    "pg = ProGenerator(\n",
    "    seq_len=64,\n",
    "    seq_dim=3,\n",
    "    time_feat_dim=5,\n",
    "    ks_conv=3,\n",
    "    key_features=8,\n",
    "    value_features=8,\n",
    "    ks_value=1,\n",
    "    ks_query=1,\n",
    "    ks_key=1,\n",
    "    # device=\"cpu\",\n",
    ")\n",
    "# x = torch.randn((8, 3, 16))\n",
    "# time_feat = torch.randn((8, 5, 16))\n",
    "# pg(x, time_feat).shape\n",
    "\n",
    "\n",
    "pd = ProDiscriminator(\n",
    "    seq_len=64,\n",
    "    seq_dim=3,\n",
    "    time_feat_dim=5,\n",
    "    ks_conv=3,\n",
    "    key_features=8,\n",
    "    value_features=8,\n",
    "    ks_value=1,\n",
    "    ks_query=1,\n",
    "    ks_key=1,\n",
    "    # device=\"cpu\",\n",
    ")\n",
    "x = torch.randn((8, 3, 64))\n",
    "time_feat = torch.randn((8, 5, 64))\n",
    "print(pg(x, time_feat, depth=3).shape)\n",
    "print(pd(x, time_feat).shape)\n",
    "\n"
   ]
  },
  {
   "cell_type": "code",
   "execution_count": null,
   "metadata": {},
   "outputs": [],
   "source": [
    "import math\n",
    "tl = 100\n",
    "2 ** math.log2(tl).__ceil__() > tl"
   ]
  }
 ],
 "metadata": {
  "kernelspec": {
   "display_name": "gents",
   "language": "python",
   "name": "python3"
  },
  "language_info": {
   "codemirror_mode": {
    "name": "ipython",
    "version": 3
   },
   "file_extension": ".py",
   "mimetype": "text/x-python",
   "name": "python",
   "nbconvert_exporter": "python",
   "pygments_lexer": "ipython3",
   "version": "3.10.15"
  }
 },
 "nbformat": 4,
 "nbformat_minor": 2
}
