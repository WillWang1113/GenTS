{
 "cells": [
  {
   "cell_type": "code",
   "execution_count": 2,
   "metadata": {},
   "outputs": [],
   "source": [
    "import numpy as np\n",
    "import matplotlib.pyplot as plt\n",
    "import torch\n",
    "from src.layers.flow import get_mask, MaskedLinear"
   ]
  },
  {
   "cell_type": "code",
   "execution_count": 10,
   "metadata": {},
   "outputs": [
    {
     "name": "stdout",
     "output_type": "stream",
     "text": [
      "tensor([0, 1, 2, 3])\n",
      "tensor([0, 1, 2, 0, 1, 2])\n",
      "tensor([[1., 1., 1., 1., 1., 1.],\n",
      "        [0., 1., 1., 0., 1., 1.],\n",
      "        [0., 0., 1., 0., 0., 1.],\n",
      "        [0., 0., 0., 0., 0., 0.]])\n",
      "tensor([0, 1, 2, 0, 1, 2])\n",
      "tensor([-1,  0,  1,  2, -1,  0,  1,  2])\n",
      "tensor([[0., 1., 1., 1., 0., 1., 1., 1.],\n",
      "        [0., 0., 1., 1., 0., 0., 1., 1.],\n",
      "        [0., 0., 0., 1., 0., 0., 0., 1.],\n",
      "        [0., 1., 1., 1., 0., 1., 1., 1.],\n",
      "        [0., 0., 1., 1., 0., 0., 1., 1.],\n",
      "        [0., 0., 0., 1., 0., 0., 0., 1.]])\n"
     ]
    }
   ],
   "source": [
    "in_dim = 4\n",
    "hidden_dim = 6\n",
    "out_dim = in_dim * 2\n",
    "flow_dim = in_dim\n",
    "\n",
    "x = torch.randn(1, 3)\n",
    "\n",
    "# input -> hidden\n",
    "in_degrees = torch.arange(in_dim) % flow_dim\n",
    "out_degrees = torch.arange(hidden_dim) % (flow_dim - 1)\n",
    "print(in_degrees)\n",
    "print(out_degrees)\n",
    "print((out_degrees.unsqueeze(-1) >= in_degrees.unsqueeze(0)).float().T)\n",
    "\n",
    "# hidden -> out\n",
    "in_degrees = torch.arange(hidden_dim) % (flow_dim - 1)\n",
    "out_degrees = torch.arange(out_dim) % flow_dim - 1\n",
    "print(in_degrees)\n",
    "print(out_degrees)\n",
    "print((out_degrees.unsqueeze(-1) >= in_degrees.unsqueeze(0)).float().T)"
   ]
  },
  {
   "cell_type": "code",
   "execution_count": 48,
   "metadata": {},
   "outputs": [
    {
     "data": {
      "text/plain": [
       "tensor([[ 0.2103,  0.3630,  0.0170, -0.1751],\n",
       "        [-0.0303,  0.4507,  0.0473,  0.0959],\n",
       "        [-0.4481, -0.3461,  0.1061,  0.1120],\n",
       "        [-0.1644,  0.2748, -0.1328,  0.3936]], grad_fn=<PermuteBackward0>)"
      ]
     },
     "execution_count": 48,
     "metadata": {},
     "output_type": "execute_result"
    }
   ],
   "source": [
    "m = MaskedLinear(4, 4,mask, bias=False)\n",
    "m.linear.weight.T"
   ]
  },
  {
   "cell_type": "code",
   "execution_count": 49,
   "metadata": {},
   "outputs": [
    {
     "name": "stdout",
     "output_type": "stream",
     "text": [
      "tensor([[-1.3728, -1.1683,  1.1246, -0.6011]])\n",
      "tensor([[ 0.2103,  0.3630,  0.0170, -0.1751],\n",
      "        [-0.0000,  0.0000,  0.0000,  0.0000],\n",
      "        [-0.4481, -0.3461,  0.1061,  0.1120],\n",
      "        [-0.0000,  0.0000, -0.0000,  0.0000]], grad_fn=<PermuteBackward0>)\n",
      "tensor([[-0.7926, -0.8876,  0.0960,  0.3663]], grad_fn=<MmBackward0>)\n"
     ]
    }
   ],
   "source": [
    "x = torch.randn(1, 4)\n",
    "print(x)\n",
    "print((m.linear.weight * mask).T)\n",
    "# print(torch.nn.functional.linear(x, m.linear.weight))\n",
    "# print(torch.matmul(x, m.linear.weight.T))\n",
    "print(torch.matmul(x, (m.linear.weight * mask).T))\n"
   ]
  },
  {
   "cell_type": "code",
   "execution_count": 5,
   "metadata": {},
   "outputs": [
    {
     "data": {
      "text/plain": [
       "torch.Size([32, 24, 4])"
      ]
     },
     "execution_count": 5,
     "metadata": {},
     "output_type": "execute_result"
    }
   ],
   "source": [
    "import torch\n",
    "a = torch.randn(32, 24, 4)\n",
    "(a - a.min(dim=0).values.min(dim=0).values).shape"
   ]
  }
 ],
 "metadata": {
  "kernelspec": {
   "display_name": "gents",
   "language": "python",
   "name": "python3"
  },
  "language_info": {
   "codemirror_mode": {
    "name": "ipython",
    "version": 3
   },
   "file_extension": ".py",
   "mimetype": "text/x-python",
   "name": "python",
   "nbconvert_exporter": "python",
   "pygments_lexer": "ipython3",
   "version": "3.10.15"
  }
 },
 "nbformat": 4,
 "nbformat_minor": 2
}
